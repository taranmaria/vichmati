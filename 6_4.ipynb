{
 "cells": [
  {
   "cell_type": "code",
   "execution_count": 248,
   "id": "bound-cause",
   "metadata": {},
   "outputs": [],
   "source": [
    "import numpy as np"
   ]
  },
  {
   "cell_type": "code",
   "execution_count": 249,
   "id": "formed-october",
   "metadata": {},
   "outputs": [],
   "source": [
    "import matplotlib.pyplot as plt"
   ]
  },
  {
   "cell_type": "code",
   "execution_count": 225,
   "id": "greatest-token",
   "metadata": {},
   "outputs": [],
   "source": [
    "class Solver2:\n",
    "    def __init__(self, N):\n",
    "        self.lbd= 1e-4\n",
    "        self.Lx = 1\n",
    "        self.Ly = 1\n",
    "        self.time = 1\n",
    "        self.Nx = N + 1\n",
    "        self.Ny = N + 1\n",
    "        self.h = 1/self.Nx\n",
    "        self.tau = 0.1\n",
    "        self.cur_time = 0\n",
    "        self.Nt = int(self.time/self.tau) + 1\n",
    "        self.matrix = np.zeros([self.Nt, self.Nx, self.Ny])\n",
    "        self.fill_initials()\n",
    "    def count_analytical(self, x, y, t):\n",
    "        return np.cos(np.pi * x) * np.sin(5 * np.pi * y) * np.exp(-50 * np.pi**2 * self.lbd * t)\n",
    "    def fill_initials(self):\n",
    "        for i in range(self.Nx):\n",
    "            x = i*self.h\n",
    "            for j in range(self.Ny):\n",
    "                y = j*self.h\n",
    "                self.matrix[0, i, j] = np.cos(np.pi*x)*np.sin(5*np.pi*y)\n",
    "        for i in range(self.Ny):\n",
    "            y = i*self.h\n",
    "            for j in range(self.Nt):\n",
    "                self.t = j*self.tau\n",
    "                self.matrix[j, 0, i] = np.sin(5*np.pi*y)*np.exp(-50*np.pi**2*self.lbd*self.t)\n",
    "                self.matrix[j, self.Nx - 1, i] = -np.sin(5*np.pi*y)*np.exp(-50*np.pi**2*self.lbd*self.t)\n",
    "        for i in range(self.Nx):\n",
    "            x = j*self.h\n",
    "            for j in range(self.Nt):\n",
    "                t = j*self.tau\n",
    "                self.matrix[j, i, 0] = 0\n",
    "                self.matrix[j, i, self.Ny - 1] = 0\n",
    "    def solve(self):\n",
    "        for i in range(self.Nt - 1):\n",
    "            for j in range(1, self.Ny -1):\n",
    "                A = np.zeros([self.Nx, self.Nx])\n",
    "                D = np.zeros(self.Nx)\n",
    "                A[0, 0] = 1\n",
    "                A[self.Nx - 1, self.Nx - 1] = 1\n",
    "                D[0] = self.matrix[i+1, 0, j]\n",
    "                D[self.Nx - 1] = self.matrix[i+1, self.Nx - 1 , j]\n",
    "                \n",
    "                for k in range(1, self.Nx - 1):\n",
    "                    c = 25*self.lbd*self.tau/self.h**2\n",
    "                    #print(c, self.lbd, self.tau, self.h)\n",
    "                    b = 25*self.lbd*self.tau/self.h**2\n",
    "                    a = -2*c - 2*self.lbd*self.tau/self.h**2- 1\n",
    "                    d =  - self.lbd*self.tau*(self.matrix[i, k, j - 1] + self.matrix[i, k, j + 1])/self.h**2 - self.matrix[i, k, j]\n",
    "                    A[k, k - 1] = c\n",
    "                    A[k, k] = a\n",
    "                    A[k, k + 1] = b\n",
    "                    D[k] = d\n",
    "                    self.A = A\n",
    "                    self.D = D\n",
    "                    #print(A)\n",
    "                self.matrix[i+1, :, j] = np.linalg.solve(A, D)\n",
    "                \n",
    "                #print(self.matrix[i+1, :, j])\n",
    "            if i == self.time // (2 * self.tau):\n",
    "                er = np.matrix([[np.abs(self.count_analytical(q*self.h, w*self.h, (i+1)*self.tau) - self.matrix[i+1, q, w]) for q in range(self.Nx)] for w in range(self.Ny)])\n",
    "                self.ern = np.amax(er)"
   ]
  },
  {
   "cell_type": "code",
   "execution_count": 229,
   "id": "cooperative-victory",
   "metadata": {
    "scrolled": true
   },
   "outputs": [
    {
     "name": "stdout",
     "output_type": "stream",
     "text": [
      "10\n",
      "[0.9656974188316969]\n",
      "20\n",
      "[0.9656974188316969, 0.6635955026159954]\n",
      "50\n",
      "[0.9656974188316969, 0.6635955026159954, 0.2957642080844213]\n",
      "100\n",
      "[0.9656974188316969, 0.6635955026159954, 0.2957642080844213, 0.15112298691996182]\n",
      "500\n",
      "[0.9656974188316969, 0.6635955026159954, 0.2957642080844213, 0.15112298691996182, 0.030584065022063074]\n",
      "1000\n",
      "[0.9656974188316969, 0.6635955026159954, 0.2957642080844213, 0.15112298691996182, 0.030584065022063074, 0.023027876320705354]\n"
     ]
    }
   ],
   "source": [
    "er_ar = []\n",
    "for N in [10, 20, 50, 100, 500, 1000]:\n",
    "    print(N)\n",
    "    s = Solver2(N)\n",
    "    s.solve()\n",
    "    er_ar.append(s.ern)\n",
    "    print(er_ar)"
   ]
  },
  {
   "cell_type": "code",
   "execution_count": 246,
   "id": "inner-thread",
   "metadata": {},
   "outputs": [
    {
     "data": {
      "text/plain": [
       "[<matplotlib.lines.Line2D at 0x106d57ee0>]"
      ]
     },
     "execution_count": 246,
     "metadata": {},
     "output_type": "execute_result"
    },
    {
     "data": {
      "image/png": "[encoded data removed]",
      "text/plain": [
       "<Figure size 432x288 with 1 Axes>"
      ]
     },
     "metadata": {
      "needs_background": "light"
     },
     "output_type": "display_data"
    }
   ],
   "source": [
    "data = er_ar\n",
    "x_data = [i for i in range(len(er_ar))]\n",
    "fig1, ax1 = plt.subplots(1)\n",
    "#plt.title('density')\n",
    "plt.plot(x_data, data, 'o:r') "
   ]
  },
  {
   "cell_type": "code",
   "execution_count": 254,
   "id": "still-worthy",
   "metadata": {},
   "outputs": [],
   "source": [
    "data2 = [np.log(i) for i in data]\n",
    "x_data2 = [np.log(i) for i in [10, 20, 50, 100, 500, 1000]]"
   ]
  },
  {
   "cell_type": "code",
   "execution_count": 255,
   "id": "direct-prototype",
   "metadata": {},
   "outputs": [
    {
     "data": {
      "text/plain": [
       "[<matplotlib.lines.Line2D at 0x11358f430>]"
      ]
     },
     "execution_count": 255,
     "metadata": {},
     "output_type": "execute_result"
    },
    {
     "data": {
      "image/png": "[encoded data removed]",
      "text/plain": [
       "<Figure size 432x288 with 1 Axes>"
      ]
     },
     "metadata": {
      "needs_background": "light"
     },
     "output_type": "display_data"
    }
   ],
   "source": [
    "\n",
    "plt.plot(x_data2, data2, 'o:r') "
   ]
  },
  {
   "cell_type": "code",
   "execution_count": 257,
   "id": "excessive-premises",
   "metadata": {},
   "outputs": [
    {
     "data": {
      "text/plain": [
       "-0.9473494403673876"
      ]
     },
     "execution_count": 257,
     "metadata": {},
     "output_type": "execute_result"
    }
   ],
   "source": [
    "(data2[5] - data[0])/(x_data[5] - x_data[0])"
   ]
  },
  {
   "cell_type": "code",
   "execution_count": null,
   "id": "crude-america",
   "metadata": {},
   "outputs": [],
   "source": []
  }
 ],
 "metadata": {
  "kernelspec": {
   "display_name": "Python 3",
   "language": "python",
   "name": "python3"
  },
  "language_info": {
   "codemirror_mode": {
    "name": "ipython",
    "version": 3
   },
   "file_extension": ".py",
   "mimetype": "text/x-python",
   "name": "python",
   "nbconvert_exporter": "python",
   "pygments_lexer": "ipython3",
   "version": "3.9.2"
  }
 },
 "nbformat": 4,
 "nbformat_minor": 5
}
